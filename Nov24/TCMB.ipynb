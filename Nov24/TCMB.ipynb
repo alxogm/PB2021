{
 "cells": [
  {
   "cell_type": "code",
   "execution_count": 5,
   "id": "4445b0f2-38ee-41fe-8bdf-a06a41333704",
   "metadata": {},
   "outputs": [],
   "source": [
    "import numpy as np\n",
    "import matplotlib.pyplot as plt"
   ]
  },
  {
   "cell_type": "markdown",
   "id": "aae36c9c-cf13-4972-b6ae-804dd9301db9",
   "metadata": {},
   "source": [
    "# Temperatura del Universo"
   ]
  },
  {
   "cell_type": "markdown",
   "id": "72fa6893-70ab-4b08-9eaa-7a3b575421af",
   "metadata": {},
   "source": [
    "### Radiación cósmica de fondo de microondas."
   ]
  },
  {
   "cell_type": "markdown",
   "id": "e975e2c7-f743-4e71-b439-3d96d9ba97c3",
   "metadata": {},
   "source": [
    "La [radiación cósmica del fondo de microondas](https://es.wikipedia.org/wiki/Radiación_de_fondo_de_microondas)(RCF) es radiación producida en etapas muy tempranas del Universo, ésta es la primera radiación que es libre de viajar a traves del espacio-tiempo. Fué medida por primera vez en los años 60's y a partir de entonces ha sido medida cada vez con mayor precisión, cómo se puede apreciar en la imagen que muestra el detalle observado por diferentes instrumentos. "
   ]
  },
  {
   "cell_type": "markdown",
   "id": "ab7d28ae-1d82-414f-9ef8-68ea8f975756",
   "metadata": {},
   "source": [
    "![CMB](./cmb.jpg)"
   ]
  },
  {
   "cell_type": "markdown",
   "id": "226a93b7-6991-4867-9a7a-e9c6303ad78a",
   "metadata": {},
   "source": [
    "El espectro de radiación medido en diferentes direcciones del cielo es muy bien descrita por un espectro conocido como espectro de cuerpo negro. \n",
    "\n",
    "Dicho espectro depende solamente de la temperatura asociada a la fuente que produce dicha radiación. En el caso de la RCF, dicha radiación se produce en un época muy temprana del Universo, sin embargo la longitud de onda de la radiación ha cambiado debido a la expansión del Universo. Así que el espectro de radiación observado con nuestros instrumentos a día de hoy, nos da información de cuál es la temperatura asociada a está radiación. \n",
    "\n"
   ]
  },
  {
   "cell_type": "markdown",
   "id": "3b99e34c-1449-4067-a833-79d1395e8f51",
   "metadata": {},
   "source": [
    "Así que con los datos medidos podremos determinar cual es la ¡temperatura del Universo!. Para esto usaremos datos obtenidos con el instrumento FIRAS. \n",
    "\n",
    "El Objetivo de este ejercicio es obtener una gráfica similar a la mostrada en la figura (ignora las lineas negra, azul, roja y punteada), donde se muestran los datos obtenidos en un experimento, y una curva teórica. \n",
    "\n"
   ]
  },
  {
   "cell_type": "markdown",
   "id": "1725d92b-a9d0-4adb-bd63-23e9e3c9d8ba",
   "metadata": {},
   "source": [
    "![fig1.png](./fig1.png)"
   ]
  },
  {
   "cell_type": "markdown",
   "id": "ab515038-513e-4d37-bb4a-e5d1515962e8",
   "metadata": {},
   "source": [
    "Empecemos por hacer un gráfico de los datos, los cuales extraeremos del archivo llamado IRCF.txt."
   ]
  },
  {
   "cell_type": "code",
   "execution_count": 74,
   "id": "0aec6d17-9d6f-4844-9033-c69841577a05",
   "metadata": {},
   "outputs": [],
   "source": [
    "data=np.loadtxt(\"IRCF.txt\").T"
   ]
  },
  {
   "cell_type": "code",
   "execution_count": 75,
   "id": "96e31cb6-5b23-418c-be42-27442f93b5e9",
   "metadata": {},
   "outputs": [
    {
     "data": {
      "text/plain": [
       "(0.0, 420.0)"
      ]
     },
     "execution_count": 75,
     "metadata": {},
     "output_type": "execute_result"
    },
    {
     "data": {
      "image/png": "[encoded data removed]",
      "text/plain": [
       "<Figure size 432x288 with 1 Axes>"
      ]
     },
     "metadata": {
      "needs_background": "light"
     },
     "output_type": "display_data"
    }
   ],
   "source": [
    "plt.errorbar(data[0],data[1],data[3]/2,fmt='.')\n",
    "plt.ylabel(\"Intensidad [MJy/sr]\")\n",
    "plt.xlabel(r\"$\\nu [{\\rm cm}^{-1}$]\")\n",
    "plt.ylim(0,420)"
   ]
  },
  {
   "cell_type": "markdown",
   "id": "b50fb509-91b7-4ee5-82c3-58d4369734e4",
   "metadata": {},
   "source": [
    "La intensidad de radiación para un espectro de cuerpo negro está dado por la ecuación: \n",
    "\n",
    "$I(\\nu,T)=\\frac{h \\nu^3}{c^2}\\frac{1}{\\exp^{h\\nu/kT}-1}$\n",
    "\n",
    "donde $\\nu$ es la frecuencia, $T$ la temperatura, y  h, k, c son las constantes de Planck, Boltzmann y la rapidez de la luz, respectivamente. Define una función que calcule la intensidad para un valor dado de la temperatura y la frecuencia. "
   ]
  },
  {
   "cell_type": "code",
   "execution_count": 76,
   "id": "a65270de-1821-40f9-98a8-e33fdd0b3ad1",
   "metadata": {},
   "outputs": [],
   "source": [
    "def Intensity(nu,T):    \n",
    "    \"\"\"Define las operaciones necesarias para calcular \n",
    "    la intensidad en unidades del SI\"\"\"\n",
    "    \n",
    "    return "
   ]
  },
  {
   "cell_type": "markdown",
   "id": "7e5b7931-c714-434e-895f-18e0301be403",
   "metadata": {},
   "source": [
    "Dado que los datos que tenemos reportan la Intesindad en unidades $[Jy/sr]$ ([Jy=Jansky](https://en.wikipedia.org/wiki/Jansky), [sr=steradian](https://es.wikipedia.org/wiki/Estereorradián)) y no en el sistema internacional de unidades, por lo que será necesario hacer una transformación de unidades."
   ]
  },
  {
   "cell_type": "code",
   "execution_count": 77,
   "id": "3bf25acf-4630-4188-8912-eb8fba609923",
   "metadata": {},
   "outputs": [],
   "source": [
    "def SI_to_Jansky(value_Jy):\n",
    "    \"\"\" Define las operaciones \n",
    "    necesarias para realizar la transfomación de \n",
    "    \"\"\"\n",
    "    return value_SI"
   ]
  },
  {
   "cell_type": "markdown",
   "id": "4210dcd1-a2a5-4180-a809-edcba845ff1d",
   "metadata": {},
   "source": [
    "Bien, ahora que tienes una función con la que calcular la intensidad, puedes graficar un modelo, junto con los datos para intentar determinar qué valor de temperatura es el que mejor se ajusta a los datos. "
   ]
  },
  {
   "cell_type": "code",
   "execution_count": 78,
   "id": "b10d7e1f-a6d7-49f6-bc93-fcb69a76b16e",
   "metadata": {},
   "outputs": [],
   "source": [
    "def Intensity_Jy(nu,T):\n",
    "    \"\"\" Define las operaciones \n",
    "    necesarias para calcular la intensidad en unidades de Jy/sr.\n",
    "    \"\"\"\n",
    "    return value_jy"
   ]
  },
  {
   "cell_type": "code",
   "execution_count": null,
   "id": "f461c795-00de-4268-b194-5026bd86036a",
   "metadata": {},
   "outputs": [],
   "source": []
  },
  {
   "cell_type": "code",
   "execution_count": 79,
   "id": "81378b07-91bf-4929-a742-28646f56cbc8",
   "metadata": {},
   "outputs": [],
   "source": [
    "#Grafica del modelo y los datos para valores de prueba de la temperatura.\n",
    "#T_test=5 # en Kelvin\n",
    "#plt.errorbar(data[0],data[1],data[3]/2,fmt='o')\n",
    "#plt.plot(data[0],Intensity_Jy(data[0],T_test))\n",
    "\n",
    "#plt.ylabel(\"Intensidad [MJy/sr]\")\n",
    "#plt.xlabel(r\"$\\nu [{\\rm cm}^{-1}$]\")\n",
    "#plt.ylim(0,420)"
   ]
  },
  {
   "cell_type": "markdown",
   "id": "67f297cb-d83e-4651-b3f3-05a8ca421e00",
   "metadata": {},
   "source": [
    "Un método simple muy utilizado para el ajuste de modelos, es decir encontrar el parámetro(s) que hacen que un modelo se ajuste bien a los datos, es el llamado minimización de $\\chi^2$. Este método consiste en definir la función  $\\chi^2$, que corresponde a una suma de las distancias entre los datos medidos y la predicción con el modelo, pesadas por la incertidumbre asociada a la medición. Una vez definida la función, se busca para qué valor del parámetro se tiene que el $\\chi^2$ es mínimo. La función $\\chi^2$ está dada por: \n",
    "\n",
    "$\\chi^2=\\frac{1}{2}\\sum_i \\frac{(y^{obs}_i(x^{obs}_i)-y^{model}_{i}(x^{obs}_i,\\vec{\\theta}))^2}{{\\sigma^{obs}_{i}(x^{obs}_i)}^2}$\n",
    "\n",
    "donde el subíndice i, indica el punto i-ésimo, y las etiquetas $obs$ y $model$, indican si nos referimos a la observación o al modelo. Las variables $x$ , $y$ representan las variables independiente y dependiente, en el problema en cuestión. Para nuestro caso la frecuencia y la intensidad, respectivamente. Finalmente el vector $\\theta$ representa el conjunto de parámetros libres que se requieren para el modelo (no constantes), en este caso en particular, la temperatura T. "
   ]
  },
  {
   "cell_type": "code",
   "execution_count": 80,
   "id": "308f9883-0bc5-4300-9d4e-7f1e9d73c3d8",
   "metadata": {},
   "outputs": [],
   "source": [
    "#Define una función que calcule $\\chi^2$ cómo función del parámetro libre, la temperatura\n",
    "#La definiremos de forma general, para que pueda ser usada en otros casos. \n",
    "\n",
    "def chi2(parametro):\n",
    "    \n",
    "    return chi2\n"
   ]
  },
  {
   "cell_type": "code",
   "execution_count": 81,
   "id": "04f8db4a-7851-4df1-a841-a052dd34ec0c",
   "metadata": {},
   "outputs": [],
   "source": [
    "#Realiza minimización de la función $\\chi^2$ cómo función del parámetro libre.\n",
    "#Se puede utilizar la función scipy.optimize.minimize (https://docs.scipy.org/doc/scipy/reference/generated/scipy.optimize.minimize.html), o bien evaluar la función en un arreglo de temperatura\n",
    "#que permita encontrar el valor de la temperatura que minimiza la función chisq\n"
   ]
  },
  {
   "cell_type": "markdown",
   "id": "98142646-52a2-4be3-9aa5-1aeece8afc19",
   "metadata": {},
   "source": [
    "Ahora que ya tienes el resultado de la minimización del $\\chi^2$ ya sabes que valor de la temperatura es el que mejor describe los datos. Utilízalo para hacer una gráfica que muestre los datos proporcionados, y el modelo que mejor los describe. En el panel inferior de la gráfica calcula la diferencia entre la observación y el modelo, lo que llamamos residuo. "
   ]
  },
  {
   "cell_type": "code",
   "execution_count": 82,
   "id": "a56ba1cd-5f72-4227-a4bb-148bbc6f496b",
   "metadata": {},
   "outputs": [
    {
     "data": {
      "image/png": "[encoded data removed]",
      "text/plain": [
       "<Figure size 648x504 with 2 Axes>"
      ]
     },
     "metadata": {
      "needs_background": "light"
     },
     "output_type": "display_data"
    }
   ],
   "source": [
    "fig, axs = plt.subplots(nrows=2,ncols= 1,figsize=(9, 7),sharex=True,\n",
    "                       gridspec_kw={'height_ratios': [2, 1]},)\n",
    "##Añade las lineas necesarias para completar el gráfico. \n",
    "axs[0].errorbar(data[0],data[1],data[3]/2,fmt='.')\n",
    "axs[0].set_ylim(0,420)\n",
    "axs[0].set_ylabel(\"Intensidad [MJy/sr]\")\n",
    "##Añade las lineas necesarias para completar el gráfico. \n",
    "axs[1].set_ylabel(\"residuos\")\n",
    "fig.subplots_adjust(hspace=0)\n"
   ]
  },
  {
   "cell_type": "code",
   "execution_count": null,
   "id": "fa959bf2-8efc-43c7-a4b9-5e447af6bdca",
   "metadata": {},
   "outputs": [],
   "source": []
  },
  {
   "cell_type": "code",
   "execution_count": null,
   "id": "6e4e6f00-8d94-41f8-ba60-b012e5aed33c",
   "metadata": {},
   "outputs": [],
   "source": []
  },
  {
   "cell_type": "code",
   "execution_count": null,
   "id": "860dbd8d-49ef-4bfa-9f53-dc5a26c29361",
   "metadata": {},
   "outputs": [],
   "source": []
  }
 ],
 "metadata": {
  "kernelspec": {
   "display_name": "Python 3 (ipykernel)",
   "language": "python",
   "name": "python3"
  },
  "language_info": {
   "codemirror_mode": {
    "name": "ipython",
    "version": 3
   },
   "file_extension": ".py",
   "mimetype": "text/x-python",
   "name": "python",
   "nbconvert_exporter": "python",
   "pygments_lexer": "ipython3",
   "version": "3.9.7"
  }
 },
 "nbformat": 4,
 "nbformat_minor": 5
}
